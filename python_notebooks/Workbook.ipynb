{
 "cells": [
  {
   "cell_type": "code",
   "execution_count": null,
   "metadata": {},
   "outputs": [],
   "source": [
    "import pandas as pd\n",
    "\n",
    "columns = [\n",
    "    \"date_time\", \"city\", \"state\", \"country\", \"shape\", \"duration_seconds\",\n",
    "    \"duration_hours_mins\", \"comments\", \"date_posted\", \"latitude\", \"longitude\"\n",
    "]\n",
    "\n",
    "url = \"https://github.com/UIUC-iSchool-DataViz/is445_data/raw/main/ufo-scrubbed-geocoded-time-standardized-00.csv\"\n",
    "df = pd.read_csv(url, header=None, names=columns)\n",
    "\n",
    "print(df.head())"
   ]
  },
  {
   "cell_type": "code",
   "execution_count": null,
   "metadata": {},
   "outputs": [],
   "source": [
    "df['date_time'] = pd.to_datetime(df['date_time'], errors='coerce')\n",
    "df = df.dropna(subset=['latitude', 'longitude', 'date_time'])\n",
    "\n",
    "df['year'] = df['date_time'].dt.year\n",
    "sightings_by_year = df.groupby('year').size().reset_index(name='count')\n",
    "\n",
    "print(sightings_by_year.head())"
   ]
  },
  {
   "cell_type": "code",
   "execution_count": null,
   "metadata": {},
   "outputs": [],
   "source": [
    "import altair as alt\n",
    "\n",
    "alt.data_transformers.disable_max_rows()\n",
    "\n",
    "chart1 = alt.Chart(sightings_by_year).mark_line(point=True).encode(\n",
    "    x=alt.X('year:O', title='Year'),\n",
    "    y=alt.Y('count:Q', title='Number of UFO Sightings'),\n",
    "    tooltip=['year', 'count']\n",
    ").properties(\n",
    "    title='UFO Sightings Over Time',\n",
    "    width=600,\n",
    "    height=400\n",
    ")\n",
    "\n",
    "chart1"
   ]
  },
  {
   "cell_type": "code",
   "execution_count": null,
   "metadata": {},
   "outputs": [],
   "source": [
    "import altair as alt\n",
    "\n",
    "filtered_df = df[df['country'].notna() & df['latitude'].notna() & df['longitude'].notna()]\n",
    "\n",
    "dropdown = alt.binding_select(\n",
    "    options=sorted(filtered_df['country'].unique()),\n",
    "    name='Select Country: '\n",
    ")\n",
    "\n",
    "country_param = alt.param(\n",
    "    name='country_param',\n",
    "    bind=dropdown,\n",
    "    value='us' \n",
    ")\n",
    "\n",
    "chart2 = alt.Chart(filtered_df).mark_circle(size=60).encode(\n",
    "    longitude='longitude:Q',\n",
    "    latitude='latitude:Q',\n",
    "    color=alt.Color('shape:N', title='UFO Shape'),\n",
    "    tooltip=['city:N', 'state:N', 'shape:N', 'date_time:T']\n",
    ").add_params(\n",
    "    country_param\n",
    ").transform_filter(\n",
    "    alt.datum.country == country_param  \n",
    ").properties(\n",
    "    width=750,\n",
    "    height=450,\n",
    "    title='Interactive Map of UFO Sightings by Country'\n",
    ")\n",
    "\n",
    "chart2\n"
   ]
  },
  {
   "cell_type": "code",
   "execution_count": 5,
   "metadata": {},
   "outputs": [],
   "source": [
    "chart1.save('chart1_ufo_time.html')\n",
    "chart2.save('chart2_ufo_map.html')"
   ]
  },
  {
   "cell_type": "code",
   "execution_count": null,
   "metadata": {},
   "outputs": [],
   "source": []
  },
  {
   "cell_type": "code",
   "execution_count": null,
   "metadata": {},
   "outputs": [],
   "source": []
  }
 ],
 "metadata": {
  "kernelspec": {
   "display_name": "Python 3 (ipykernel)",
   "language": "python",
   "name": "python3"
  },
  "language_info": {
   "codemirror_mode": {
    "name": "ipython",
    "version": 3
   },
   "file_extension": ".py",
   "mimetype": "text/x-python",
   "name": "python",
   "nbconvert_exporter": "python",
   "pygments_lexer": "ipython3",
   "version": "3.11.6"
  }
 },
 "nbformat": 4,
 "nbformat_minor": 4
}
